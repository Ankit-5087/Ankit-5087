{
  "nbformat": 4,
  "nbformat_minor": 0,
  "metadata": {
    "colab": {
      "provenance": [],
      "mount_file_id": "1v2c_2itZNtZo_pjnt6TXlLv1KMzM79HS",
      "authorship_tag": "ABX9TyPKVYm8t/tjDGR9e0S8FxEs",
      "include_colab_link": true
    },
    "kernelspec": {
      "name": "python3",
      "display_name": "Python 3"
    },
    "language_info": {
      "name": "python"
    }
  },
  "cells": [
    {
      "cell_type": "markdown",
      "metadata": {
        "id": "view-in-github",
        "colab_type": "text"
      },
      "source": [
        "<a href=\"https://colab.research.google.com/github/Ankit-5087/Ankit-5087/blob/main/Plant_analysis_2.ipynb\" target=\"_parent\"><img src=\"https://colab.research.google.com/assets/colab-badge.svg\" alt=\"Open In Colab\"/></a>"
      ]
    },
    {
      "cell_type": "code",
      "source": [
        "import numpy as np\n",
        "import os\n",
        "import cv2\n",
        "import tensorflow as tf\n",
        "from tqdm import tqdm\n",
        "import matplotlib.pyplot as plt\n",
        "from sklearn.utils import shuffle\n",
        "\n",
        "from google.colab import drive\n",
        "drive.mount('/content/drive')\n",
        "\n",
        "class_names = ['Aloe barbadensis miller (Aloevera)', 'Alpinia Galanga (Rasna)', 'Artocarpus Heterophyllus (Jackfruit)', 'Azadirachta Indica (Neem)', 'Basella Alba (Basale)', 'Brassica Juncea (Indian Mustard)', 'Carissa Carandas (Karanda)', 'Citrus Limon (Lemon)', 'Ficus Religiosa (Peepal Tree)', 'Jasminum (Jasmine)', 'Mangifera Indica (Mango fruit)', 'Mangifera Indica (Mango leaf)', 'Mentha (Mint)', 'Moringa Oleifera (Drumstick)', 'Ocimum Tenuiflorum (Tulsi)', 'Piper Betle (Betel)', 'Psidium Guajava (Guava fruit)', 'Psidium Guajava (Guava leaf)', 'Punica Granatum (Pomegranate)', 'Rosa-sinensis (Hibiscus)', 'Santalum Album (Sandalwood)', 'Syzygium Cumini (Jamun)', 'Syzygium Jambos (Rose Apple)', 'Zingiber officinale Roscoe (Ginger)']\n",
        "\n",
        "IMAGE_SIZE = (150, 150)\n",
        "\n",
        "def pre_process(img_path):\n",
        "    image = cv2.imread(img_path)\n",
        "    image = cv2.cvtColor(image, cv2.COLOR_BGR2RGB)\n",
        "    image = cv2.resize(image, IMAGE_SIZE)\n",
        "    return image\n",
        "\n",
        "def load_data(training_dataset_paths, testing_image_path):\n",
        "    train_data = []\n",
        "\n",
        "    # Load training data\n",
        "    for dataset_path in training_dataset_paths:\n",
        "        images = []\n",
        "        labels = []\n",
        "\n",
        "        print(\"Loading training dataset: {}\".format(dataset_path))\n",
        "\n",
        "        for folder in os.listdir(dataset_path):\n",
        "            label = class_names.index(folder)  # Get label index from class_names\n",
        "\n",
        "            folder_path = os.path.join(dataset_path, folder)\n",
        "\n",
        "            for file in tqdm(os.listdir(folder_path)):\n",
        "                img_path = os.path.join(folder_path, file)\n",
        "\n",
        "                # Assuming you have a pre_process function defined\n",
        "                image = pre_process(img_path)\n",
        "\n",
        "                if image is not None:  # Check if pre_process successfully loaded the image\n",
        "                    images.append(image)\n",
        "                    labels.append(label)\n",
        "\n",
        "        images = np.array(images, dtype='float32')\n",
        "        labels = np.array(labels, dtype='int32')\n",
        "\n",
        "        train_data.append((images, labels))\n",
        "\n",
        "    # Load the single testing image\n",
        "    test_images = [pre_process(testing_image_path)]\n",
        "\n",
        "    return train_data, test_images\n",
        "\n",
        "# Define paths to your training dataset and the single testing image\n",
        "train_datasets = ['/content/drive/MyDrive/Colab Notebooks/SET/Train']\n",
        "test_image_path = '/content/drive/MyDrive/Colab Notebooks/SET/Test/AH-S-005.jpg'\n",
        "\n",
        "train_data, test_images = load_data(train_datasets, test_image_path)\n",
        "\n",
        "# Shuffle training data\n",
        "train_images, train_labels = train_data[0]\n",
        "train_images, train_labels = shuffle(train_images, train_labels, random_state=25)\n",
        "\n",
        "n_train = train_labels.shape[0]\n",
        "\n",
        "print(\"Number of training examples: {}\".format(n_train))\n",
        "print(\"Number of testing examples: 1\")  # Only one test image\n",
        "print(\"Each image is of size: {}\".format(IMAGE_SIZE))\n",
        "\n",
        "train_images = train_images / 255.0\n",
        "test_images = np.array(test_images, dtype='float32') / 255.0\n",
        "\n",
        "# Define the model\n",
        "model = tf.keras.Sequential([\n",
        "    tf.keras.layers.Conv2D(32, (3, 3), activation='relu', input_shape=(150, 150, 3)),\n",
        "    tf.keras.layers.MaxPooling2D(2, 2),\n",
        "    tf.keras.layers.Conv2D(32, (3, 3), activation='relu'),\n",
        "    tf.keras.layers.MaxPooling2D(2, 2),\n",
        "    tf.keras.layers.Flatten(),\n",
        "    tf.keras.layers.Dense(128, activation=tf.nn.relu),\n",
        "    tf.keras.layers.Dense(30, activation=tf.nn.softmax)\n",
        "])\n",
        "\n",
        "# Compile the model\n",
        "model.compile(optimizer='adam', loss='sparse_categorical_crossentropy', metrics=['accuracy'])\n",
        "\n",
        "# Train the model\n",
        "history = model.fit(train_images, train_labels, batch_size=128, epochs=20, validation_split=0.2)\n",
        "\n",
        "# Plot accuracy and loss\n",
        "def plot_accuracy_loss(history):\n",
        "    fig = plt.figure(figsize=(10, 5))\n",
        "\n",
        "    # Plot accuracy\n",
        "    plt.subplot(221)\n",
        "    plt.plot(history.history['accuracy'], 'bo--', label=\"accuracy\")\n",
        "    plt.plot(history.history['val_accuracy'], 'ro--', label=\"val_accuracy\")\n",
        "    plt.title(\"train_acc vs val_acc\")\n",
        "    plt.ylabel(\"accuracy\")\n",
        "    plt.xlabel(\"epochs\")\n",
        "    plt.legend()\n",
        "\n",
        "    # Plot loss function\n",
        "    plt.subplot(222)\n",
        "    plt.plot(history.history['loss'], 'bo--', label=\"loss\")\n",
        "    plt.plot(history.history['val_loss'], 'ro--', label=\"val_loss\")\n",
        "    plt.title(\"train_loss vs val_loss\")\n",
        "    plt.ylabel(\"loss\")\n",
        "    plt.xlabel(\"epochs\")\n",
        "\n",
        "    plt.legend()\n",
        "    plt.show()\n",
        "\n",
        "# Plot accuracy and loss\n",
        "plot_accuracy_loss(history)\n",
        "\n",
        "# Load the single testing image\n",
        "test_images = [pre_process(test_image_path)]\n",
        "\n",
        "# Preprocess the test image and normalize it\n",
        "test_images = np.array(test_images, dtype='float32') / 255.0\n",
        "\n",
        "# Use the model to predict the label for the test image\n",
        "predictions = model.predict(test_images)  # Vector of probabilities\n",
        "predicted_label = np.argmax(predictions[0])  # Find the label with the highest probability\n",
        "\n",
        "# Print the predicted label\n",
        "print(\"Predicted Label:\", class_names[predicted_label])\n"
      ],
      "metadata": {
        "colab": {
          "base_uri": "https://localhost:8080/",
          "height": 1000
        },
        "id": "FFNu4-oxudNv",
        "outputId": "b6ba8cbd-659a-4e26-a493-515746e0584f"
      },
      "execution_count": null,
      "outputs": [
        {
          "output_type": "stream",
          "name": "stdout",
          "text": [
            "Drive already mounted at /content/drive; to attempt to forcibly remount, call drive.mount(\"/content/drive\", force_remount=True).\n",
            "Loading training dataset: /content/drive/MyDrive/Colab Notebooks/SET/Train\n"
          ]
        },
        {
          "output_type": "stream",
          "name": "stderr",
          "text": [
            "100%|██████████| 63/63 [00:02<00:00, 22.70it/s]\n",
            "100%|██████████| 103/103 [00:03<00:00, 27.97it/s]\n",
            "100%|██████████| 34/34 [00:00<00:00, 35.92it/s]\n",
            "100%|██████████| 74/74 [00:02<00:00, 34.77it/s]\n",
            "100%|██████████| 56/56 [00:01<00:00, 29.89it/s]\n",
            "100%|██████████| 71/71 [00:02<00:00, 30.30it/s]\n",
            "100%|██████████| 60/60 [00:02<00:00, 27.78it/s]\n",
            "100%|██████████| 57/57 [00:03<00:00, 18.69it/s]\n",
            "100%|██████████| 50/50 [00:01<00:00, 29.50it/s]\n",
            "100%|██████████| 1000/1000 [00:07<00:00, 133.66it/s]\n",
            "100%|██████████| 52/52 [00:01<00:00, 37.05it/s]\n",
            "100%|██████████| 65/65 [00:03<00:00, 18.13it/s]\n",
            "100%|██████████| 97/97 [00:03<00:00, 28.22it/s]\n",
            "100%|██████████| 62/62 [00:01<00:00, 35.73it/s]\n",
            "100%|██████████| 77/77 [00:02<00:00, 35.53it/s]\n",
            "100%|██████████| 1000/1000 [00:07<00:00, 129.33it/s]\n",
            "100%|██████████| 1000/1000 [00:08<00:00, 111.40it/s]\n",
            "100%|██████████| 48/48 [00:01<00:00, 34.29it/s]\n",
            "100%|██████████| 43/43 [00:01<00:00, 32.77it/s]\n",
            "100%|██████████| 79/79 [00:03<00:00, 20.53it/s]\n",
            "100%|██████████| 1000/1000 [00:08<00:00, 123.52it/s]\n",
            "100%|██████████| 58/58 [00:01<00:00, 32.47it/s]\n",
            "100%|██████████| 39/39 [00:01<00:00, 23.88it/s]\n",
            "100%|██████████| 56/56 [00:02<00:00, 23.19it/s]\n"
          ]
        },
        {
          "output_type": "stream",
          "name": "stdout",
          "text": [
            "Number of training examples: 5244\n",
            "Number of testing examples: 1\n",
            "Each image is of size: (150, 150)\n",
            "Epoch 1/20\n",
            "33/33 [==============================] - 144s 4s/step - loss: 2.7531 - accuracy: 0.2589 - val_loss: 1.8154 - val_accuracy: 0.3947\n",
            "Epoch 2/20\n",
            "33/33 [==============================] - 143s 4s/step - loss: 1.4765 - accuracy: 0.5137 - val_loss: 1.2451 - val_accuracy: 0.5891\n",
            "Epoch 3/20\n",
            "33/33 [==============================] - 154s 5s/step - loss: 0.9889 - accuracy: 0.6718 - val_loss: 1.0469 - val_accuracy: 0.6339\n",
            "Epoch 4/20\n",
            "33/33 [==============================] - 154s 5s/step - loss: 0.6391 - accuracy: 0.7962 - val_loss: 0.8055 - val_accuracy: 0.7378\n",
            "Epoch 5/20\n",
            "33/33 [==============================] - 144s 4s/step - loss: 0.4278 - accuracy: 0.8665 - val_loss: 0.6229 - val_accuracy: 0.7893\n",
            "Epoch 6/20\n",
            "33/33 [==============================] - 143s 4s/step - loss: 0.2971 - accuracy: 0.9163 - val_loss: 0.5975 - val_accuracy: 0.8055\n",
            "Epoch 7/20\n",
            "33/33 [==============================] - 159s 5s/step - loss: 0.2113 - accuracy: 0.9397 - val_loss: 0.5493 - val_accuracy: 0.8294\n",
            "Epoch 8/20\n",
            "33/33 [==============================] - 145s 4s/step - loss: 0.1251 - accuracy: 0.9723 - val_loss: 0.5279 - val_accuracy: 0.8522\n",
            "Epoch 9/20\n",
            "33/33 [==============================] - 145s 4s/step - loss: 0.0975 - accuracy: 0.9807 - val_loss: 0.5458 - val_accuracy: 0.8608\n",
            "Epoch 10/20\n",
            "33/33 [==============================] - 155s 5s/step - loss: 0.0617 - accuracy: 0.9924 - val_loss: 0.5239 - val_accuracy: 0.8465\n",
            "Epoch 11/20\n",
            "33/33 [==============================] - 155s 5s/step - loss: 0.0355 - accuracy: 0.9967 - val_loss: 0.5567 - val_accuracy: 0.8580\n",
            "Epoch 12/20\n",
            "33/33 [==============================] - 145s 4s/step - loss: 0.0212 - accuracy: 0.9993 - val_loss: 0.5610 - val_accuracy: 0.8608\n",
            "Epoch 13/20\n",
            "33/33 [==============================] - 145s 4s/step - loss: 0.0160 - accuracy: 0.9998 - val_loss: 0.5704 - val_accuracy: 0.8589\n",
            "Epoch 14/20\n",
            "33/33 [==============================] - 156s 5s/step - loss: 0.0104 - accuracy: 1.0000 - val_loss: 0.6009 - val_accuracy: 0.8513\n",
            "Epoch 15/20\n",
            "33/33 [==============================] - 145s 4s/step - loss: 0.0082 - accuracy: 1.0000 - val_loss: 0.6020 - val_accuracy: 0.8532\n",
            "Epoch 16/20\n",
            "33/33 [==============================] - 145s 4s/step - loss: 0.0062 - accuracy: 1.0000 - val_loss: 0.6244 - val_accuracy: 0.8561\n",
            "Epoch 17/20\n",
            "33/33 [==============================] - 155s 5s/step - loss: 0.0050 - accuracy: 1.0000 - val_loss: 0.6320 - val_accuracy: 0.8532\n",
            "Epoch 18/20\n",
            "33/33 [==============================] - 145s 4s/step - loss: 0.0040 - accuracy: 1.0000 - val_loss: 0.6494 - val_accuracy: 0.8513\n",
            "Epoch 19/20\n",
            "33/33 [==============================] - 145s 4s/step - loss: 0.0033 - accuracy: 1.0000 - val_loss: 0.6434 - val_accuracy: 0.8522\n",
            "Epoch 20/20\n",
            "33/33 [==============================] - 155s 5s/step - loss: 0.0029 - accuracy: 1.0000 - val_loss: 0.6742 - val_accuracy: 0.8541\n"
          ]
        },
        {
          "output_type": "display_data",
          "data": {
            "text/plain": [
              "<Figure size 1000x500 with 2 Axes>"
            ],
            "image/png": "[encoded data removed]"
          },
          "metadata": {}
        },
        {
          "output_type": "stream",
          "name": "stdout",
          "text": [
            "1/1 [==============================] - 0s 152ms/step\n",
            "Predicted Label: Artocarpus Heterophyllus (Jackfruit)\n"
          ]
        }
      ]
    },
    {
      "cell_type": "code",
      "source": [
        "from PIL import Image, ImageOps  # Import the PIL library"
      ],
      "metadata": {
        "id": "aVdQJXr76icC"
      },
      "execution_count": null,
      "outputs": []
    },
    {
      "cell_type": "code",
      "source": [
        "# Define the function to make predictions on a single image\n",
        "def predict_single_image(image_path, model, class_names):\n",
        "    data = np.ndarray(shape=(1, 150, 150, 3), dtype=np.float32)\n",
        "\n",
        "    # Open the image using PIL\n",
        "    image = Image.open(image_path)\n",
        "\n",
        "    # Resize the image\n",
        "    size = (150, 150)\n",
        "    image = ImageOps.fit(image, size, Image.ANTIALIAS)\n",
        "\n",
        "    # Convert the image to a numpy array\n",
        "    image_array = np.asarray(image)\n",
        "\n",
        "    # Normalize the image\n",
        "    normalized_image_array = (image_array.astype(np.float32) / 127.0) - 1\n",
        "\n",
        "    # Load the image into the array\n",
        "    data[0] = normalized_image_array\n",
        "\n",
        "    # Run the inference\n",
        "    prediction = model.predict(data)\n",
        "\n",
        "    # Get the predicted label\n",
        "    pred_label = np.argmax(prediction, axis=1)\n",
        "\n",
        "    # Get the corresponding class name\n",
        "    class_prediction = class_names[pred_label[0]]\n",
        "\n",
        "    return class_prediction\n",
        "\n",
        "# Example usage:\n",
        "test_image_path = '/content/drive/MyDrive/Colab Notebooks/SET/Train/Mentha (Mint)/M-S-002.jpg'\n",
        "predicted_class = predict_single_image(test_image_path, model, class_names)\n",
        "print(f'Predicted Label: {predicted_class}')"
      ],
      "metadata": {
        "colab": {
          "base_uri": "https://localhost:8080/"
        },
        "id": "n15ZxzEo8FeO",
        "outputId": "977a4f03-1a83-409c-8d66-0c8eb5deaa8c"
      },
      "execution_count": null,
      "outputs": [
        {
          "output_type": "stream",
          "name": "stdout",
          "text": [
            "1/1 [==============================] - 0s 47ms/step\n",
            "Predicted Label: Mentha (Mint)\n"
          ]
        },
        {
          "output_type": "stream",
          "name": "stderr",
          "text": [
            "<ipython-input-33-01393d748419>:10: DeprecationWarning: ANTIALIAS is deprecated and will be removed in Pillow 10 (2023-07-01). Use LANCZOS or Resampling.LANCZOS instead.\n",
            "  image = ImageOps.fit(image, size, Image.ANTIALIAS)\n"
          ]
        }
      ]
    },
    {
      "cell_type": "code",
      "source": [
        "if predicted_class == 'Aloe barbadensis miller (Aloevera)':\n",
        "    print('Aloe barbadensis miller (Aloevera): Also known as Aloevera, this plant can be used for various medicinal purposes. It is commonly used for skincare to soothe burns, moisturize the skin, and treat skin conditions. It also has potential benefits for digestion, immunity, and reducing inflammation.')\n",
        "\n",
        "if predicted_class == 'Alpinia Galanga (Rasna)':\n",
        "    print('Alpinia Galanga (Rasna): Rasna is known for its anti-inflammatory properties and is used in traditional medicine to treat various ailments. It can help with digestive issues, respiratory problems, and may have antioxidant benefits.')\n",
        "\n",
        "if predicted_class == 'Artocarpus Heterophyllus (Jackfruit)':\n",
        "    print('Artocarpus Heterophyllus (Jackfruit): Jackfruit is a nutritious fruit with a unique flavor. It is rich in vitamins, minerals, and fiber. Jackfruit seeds are also used in traditional medicine for their potential health benefits.')\n",
        "\n",
        "if predicted_class == 'Azadirachta Indica (Neem)':\n",
        "    print('Azadirachta Indica (Neem): Neem is often referred to as the \"wonder tree\" due to its numerous medicinal properties. It is used for skincare, haircare, and has antimicrobial and anti-inflammatory properties. Neem also plays a role in traditional medicine.')\n",
        "\n",
        "if predicted_class == 'Basella Alba (Basale)':\n",
        "    print('Basella Alba (Basale): Basale has an anti-inflammatory activity and wound healing ability. It can be helpful as a first aid, and the leaves of this plant can be crushed and applied to burns, scalds, and wounds to help in the healing of the wounds.')\n",
        "\n",
        "if predicted_class == 'Brassica Juncea (Indian Mustard)':\n",
        "    print('Brassica Juncea (Indian Mustard): Indian Mustard and its oil are widely used for the relief of joint pain, swelling, fever, coughs, and colds. The mustard oil can be used as a massage oil, skin serum, and for hair treatment.')\n",
        "\n",
        "if predicted_class == 'Carissa Carandas (Karanda)':\n",
        "    print('Carissa Carandas (Karanda): Karanda is especially used in treating problems regarding digestion. It is used to cure worm infestation, gastritis, dermatitis, splenomegaly, and indigestion.')\n",
        "\n",
        "if predicted_class == 'Citrus Limon (Lemon)':\n",
        "    print('Citrus Limon (Lemon): Lemons are an excellent source of Vitamin C and fiber, which can lower the risk factors leading to heart diseases. Lemons are also known to prevent Kidney Stones as they have Citric acid that helps in preventing Kidney Stones.')\n",
        "\n",
        "if predicted_class == 'Ficus Religiosa (Peepal Tree)':\n",
        "    print('Ficus Religiosa (Peepal Tree): The bark of the Peeple tree, rich in vitamin K, is an effective complexion corrector and preserver. It also helps in various ailments such as strengthening blood capillaries, minimizing inflammation, and healing skin bruises faster.')\n",
        "\n",
        "if predicted_class == 'Jasminum (Jasmine)':\n",
        "    print('Jasminum (Jasmine): Jasmine is used in the curing of liver diseases, such as hepatitis, and in abdominal pain caused due to intense diarrhea or dysentery. The smell of Jasmine flowers can be used to improve mood, reduce stress levels, and also reduce food cravings. Jasmine can also be used to help in fighting skin diseases and speed up the process of wound healing.')\n",
        "\n",
        "if predicted_class == 'Mangifera Indica (Mango fruit)':\n",
        "    print('Mangifera Indica (Mango fruit): Mangoes are full of carotenoids, the yellow pigments that give mangoes their characteristic color. They are high in Vitamin A, which helps in preventing heart diseases and eye problems such as cataracts and macular degeneration and provides you with excellent eyesight.')\n",
        "\n",
        "if predicted_class == 'Mangifera Indica (Mango leaf)':\n",
        "    print('Mangifera Indica (Mango leaf): Mango leaves have potential health benefits, including managing diabetes, reducing hypertension, and supporting overall health.')\n",
        "\n",
        "if predicted_class == 'Mentha (Mint)':\n",
        "    print('Mentha (Mint): Mint is used in daily life to keep bad mouth odor at bay, but besides that, this plant also helps in various other functions such as relieving indigestion, upset stomach, and can also improve Irritable Bowel Syndrome (IBS). Mint is also full of nutrients such as Vitamin A, Iron, Manganese, Folate, and Fiber.')\n",
        "\n",
        "if predicted_class == 'Moringa Oleifera (Drumstick)':\n",
        "    print('Moringa Oleifera (Drumstick): Drumstick contains high amounts of Vitamin C and antioxidants, which help you build up your immune system and fight against common infections such as the common cold and flu. Bioactive compounds in this plant help to relieve you from thickening of the arteries and lessen the chance of developing high blood pressure. Due to a high amount of calcium, Drumstick helps in developing strong and healthy bones.')\n",
        "\n",
        "if predicted_class == 'Ocimum Tenuiflorum (Tulsi)':\n",
        "    print('Ocimum Tenuiflorum (Tulsi): Tulsi plant has the potential to cure a lot of ailments and is used a lot in traditional remedies. Tulsi can help cure fever, treat skin problems like acne, blackheads, and premature aging, and treat insect bites. Tulsi is also used to treat heart disease and fever, and respiratory problems.')\n",
        "\n",
        "if predicted_class == 'Piper Betle (Betel)':\n",
        "    print('Piper Betle (Betel): The leaves of Betel possess immense therapeutic potential and are often used to cure mood swings and even depression. They are also quite an effective way to improve digestive health as they effectively neutralize pH imbalances in the stomach. The leaves are also full of many antimicrobial agents that combat the bacteria in your mouth.')\n",
        "\n",
        "if predicted_class == 'Psidium Guajava (Guava fruit)':\n",
        "    print('Psidium Guajava (Guava fruit): Aside from bearing a delicious taste, the fruit of the Guava tree is a rich source of Vitamin C and antioxidants. It is especially effective against preventing infections such as Gastrointestinal infections, Respiratory infections, Oral/dental infections, and Skin infections. It can also aid in the treatment of Hypertension, Fever, Pain, Liver, and Kidney problems.')\n",
        "\n",
        "if predicted_class == 'Psidium Guajava (Guava leaf)':\n",
        "    print('Psidium Guajava (Guava leaf): Guava leaves have potential medicinal benefits, including helping to control blood sugar levels and supporting digestive health.')\n",
        "\n",
        "if predicted_class == 'Punica Granatum (Pomegranate)':\n",
        "    print('Punica Granatum (Pomegranate): Pomegranate has a variety of medical benefits. It is rich in antioxidants, which reduce inflammation, protect cells from damage, and eventually lower the chances of cancer. It is also a great source of Vitamin C and an immunity booster. Pomegranate has also shown to stall the progress of Alzheimer disease and protect memory.')\n",
        "\n",
        "if predicted_class == 'Rosa-sinensis (Hibiscus)':\n",
        "    print('Rosa-sinensis (Hibiscus): The tea of the hibiscus flowers is quite prevalent and is used mainly to lower blood pressure and prevent Hypertension. It is also used to relieve dry coughs. Some studies suggest that the tea has an effect in relieving fever, diabetes, gallbladder attacks, and even cancer. The roots of this plant can also be used to prepare a tonic.')\n",
        "\n",
        "if predicted_class == 'Santalum Album (Sandalwood)':\n",
        "    print('Santalum Album (Sandalwood): Sandalwood is used for treating the common cold, cough, bronchitis, fever, and sore mouth and throat. It is also used to treat urinary tract infections (UTIs), liver disease, gallbladder problems, heatstroke, gonorrhea, headache, and conditions of the heart and blood vessels (cardiovascular disease).')\n",
        "\n",
        "if predicted_class == 'Syzygium Cumini (Jamun)':\n",
        "    print('Syzygium Cumini (Jamun): The fruit extract of the Jamun plant is used in treating the common cold, cough, and flu. The bark of this tree contains components like tannins and carbohydrates that can be used to fight dysentery. Jamun juice is used for treating sore throat problems and is also effective in the enlargement of the spleen.')\n",
        "\n",
        "if predicted_class == 'Syzygium Jambos (Rose Apple)':\n",
        "    print('Syzygium Jambos (Rose Apple): The Jamaican Cherry plant has anti-diabetic properties which can potentially cure type 2 diabetes. Jamaican Cherry tea contains rich amounts of nitric oxide, which relaxes blood vessels, reducing the chance of hypertension. Other than that, it can help to relieve pain, prevent infections, boost immunity, and promote digestive health.')\n",
        "\n",
        "if predicted_class == 'Zingiber officinale Roscoe (Ginger)':\n",
        "    print('Zingiber officinale Roscoe (Ginger): Ginger has been used for centuries for its potential health benefits. It is known for its anti-nausea and anti-inflammatory properties. Ginger is often used to alleviate digestive issues, reduce muscle pain, and boost the immune system.')\n",
        "\n",
        "\n"
      ],
      "metadata": {
        "colab": {
          "base_uri": "https://localhost:8080/"
        },
        "id": "aGtPxMCE9M_P",
        "outputId": "d194c859-4417-49fd-bae9-e44f0d990217"
      },
      "execution_count": null,
      "outputs": [
        {
          "output_type": "stream",
          "name": "stdout",
          "text": [
            "Mangifera Indica (Mango fruit): Mangoes are full of carotenoids, the yellow pigments that give mangoes their characteristic color. They are high in Vitamin A, which helps in preventing heart diseases and eye problems such as cataracts and macular degeneration and provides you with excellent eyesight.\n"
          ]
        }
      ]
    },
    {
      "cell_type": "code",
      "source": [
        "model.save('model_sev.h5')"
      ],
      "metadata": {
        "id": "_4eiGJ4L_875"
      },
      "execution_count": null,
      "outputs": []
    }
  ]
}